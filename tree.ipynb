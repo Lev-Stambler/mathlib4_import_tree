{
 "cells": [
  {
   "cell_type": "code",
   "execution_count": null,
   "metadata": {},
   "outputs": [],
   "source": [
    "import re\n",
    "import os\n",
    "\n",
    "def find_lean_files(directory):\n",
    "    lean_files = []\n",
    "    for root, _, files in os.walk(directory):\n",
    "        for file in files:\n",
    "            if file.endswith('.lean'):\n",
    "                full_path = os.path.join(root, file)\n",
    "                lean_files.append(full_path)\n",
    "\n",
    "    return lean_files\n",
    "\n",
    "def get_import_lines(filename: str) -> list[str]:\n",
    "  lines = []\n",
    "  with open('your_file.txt', 'r') as file:\n",
    "      for line in file:\n",
    "          match = re.match(r'^import\\s.+', line)\n",
    "          if match:\n",
    "              lines.append(match.group())\n",
    "              print(\"Matched Line:\", match.group())\n",
    "  return lines\n",
    "\n"
   ]
  }
 ],
 "metadata": {
  "language_info": {
   "name": "python"
  },
  "orig_nbformat": 4
 },
 "nbformat": 4,
 "nbformat_minor": 2
}
